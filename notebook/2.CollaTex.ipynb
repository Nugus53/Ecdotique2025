{
 "cells": [
  {
   "cell_type": "markdown",
   "id": "b87a5876",
   "metadata": {},
   "source": [
    "[![Open In Colab](https://colab.research.google.com/assets/colab-badge.svg)](https://colab.research.google.com/github/Nugus53/Ecdotique2025/blob/master/2.CollaTex.ipynb)"
   ]
  },
  {
   "cell_type": "code",
   "execution_count": 1,
   "id": "1075940b-3870-4ae6-9829-9945540ca482",
   "metadata": {},
   "outputs": [
    {
     "name": "stdout",
     "output_type": "stream",
     "text": [
      "Initializing the lib package corpora\n"
     ]
    },
    {
     "name": "stderr",
     "output_type": "stream",
     "text": [
      "/usr/lib/python3/dist-packages/scipy/__init__.py:146: UserWarning: A NumPy version >=1.17.3 and <1.25.0 is required for this version of SciPy (detected version 1.26.4\n",
      "  warnings.warn(f\"A NumPy version >={np_minversion} and <{np_maxversion}\"\n"
     ]
    }
   ],
   "source": [
    "import sys\n",
    "import os\n",
    "sys.path.insert(0, os.path.abspath('../src'))\n",
    "from corpora import corporaMenu"
   ]
  },
  {
   "cell_type": "markdown",
   "id": "fa889aa9",
   "metadata": {},
   "source": [
    "# Collatex \n",
    "\n",
    "- Aligner des morceaux de textes entre eux\n",
    "- les algorythme sont inspiré de la biogénitique qui souvent cherche a aligner des Gène"
   ]
  },
  {
   "cell_type": "markdown",
   "id": "0cbbd7fa",
   "metadata": {},
   "source": [
    "## Entrer ces données"
   ]
  },
  {
   "cell_type": "code",
   "execution_count": 2,
   "id": "5ba99209",
   "metadata": {},
   "outputs": [
    {
     "name": "stdout",
     "output_type": "stream",
     "text": [
      "demo/demo_Jerihna3.json\n"
     ]
    },
    {
     "data": {
      "application/vnd.jupyter.widget-view+json": {
       "model_id": "2eec2b57133e4eb995b40ab126162a70",
       "version_major": 2,
       "version_minor": 0
      },
      "text/plain": [
       "VBox(children=(Output(), Output(), Tab(children=(Output(), Output()), selected_index=0, titles=('Temoins', 'so…"
      ]
     },
     "metadata": {},
     "output_type": "display_data"
    }
   ],
   "source": [
    "corporaMenu('new',{\"segmentation\":False,\"near_match\":False,\"layout\":\"horizontal\",\"output\":\"html\",\"path\":\"demo/demo_Jerihna3.json\"},tab_index=0)"
   ]
  },
  {
   "cell_type": "markdown",
   "id": "8db7938f",
   "metadata": {},
   "source": [
    "## Aligner les témoins"
   ]
  },
  {
   "cell_type": "code",
   "execution_count": 3,
   "id": "7f784743",
   "metadata": {},
   "outputs": [
    {
     "name": "stdout",
     "output_type": "stream",
     "text": [
      "demo/demo_Jerihna3.json\n"
     ]
    },
    {
     "data": {
      "application/vnd.jupyter.widget-view+json": {
       "model_id": "f0f3d6a6d2e94545a148162b23afb41a",
       "version_major": 2,
       "version_minor": 0
      },
      "text/plain": [
       "VBox(children=(Output(), Output(), Tab(children=(Output(), Output()), selected_index=1, titles=('Temoins', 'so…"
      ]
     },
     "metadata": {},
     "output_type": "display_data"
    }
   ],
   "source": [
    "corporaMenu('new',{\"segmentation\":False,\"near_match\":False,\"layout\":\"horizontal\",\"output\":\"html\",\"path\":\"demo/demo_Jerihna3.json\"},tab_index=1)"
   ]
  },
  {
   "cell_type": "markdown",
   "id": "66c16016",
   "metadata": {},
   "source": [
    "### Les options \n",
    "\n",
    "- **segmentation** : qui permet de regrouper des morceaux de textes\n",
    "- **near_match** : essayer de trouver des similitudes entres les tokens pour les aligner"
   ]
  },
  {
   "cell_type": "code",
   "execution_count": 4,
   "id": "6d59d225-b572-4138-a810-9db05e898dc2",
   "metadata": {},
   "outputs": [
    {
     "name": "stdout",
     "output_type": "stream",
     "text": [
      "demo/demo_Jerihna3.json\n"
     ]
    },
    {
     "data": {
      "application/vnd.jupyter.widget-view+json": {
       "model_id": "d27db5910e3e497494215bfdb3948ace",
       "version_major": 2,
       "version_minor": 0
      },
      "text/plain": [
       "VBox(children=(Output(), Output(), Tab(children=(Output(), Output()), selected_index=1, titles=('Temoins', 'so…"
      ]
     },
     "metadata": {},
     "output_type": "display_data"
    }
   ],
   "source": [
    "corporaMenu('new',{\"segmentation\":True,\"near_match\":False,\"layout\":\"horizontal\",\"output\":\"html\",\"path\":\"demo/demo_Jerihna3.json\"},tab_index=1)"
   ]
  },
  {
   "cell_type": "code",
   "execution_count": 5,
   "id": "a3e89dee",
   "metadata": {},
   "outputs": [
    {
     "name": "stdout",
     "output_type": "stream",
     "text": [
      "demo/demo_Jerihna3.json\n"
     ]
    },
    {
     "data": {
      "application/vnd.jupyter.widget-view+json": {
       "model_id": "a306dae639e8477b982302ab8dc84d9f",
       "version_major": 2,
       "version_minor": 0
      },
      "text/plain": [
       "VBox(children=(Output(), Output(), Tab(children=(Output(), Output()), selected_index=1, titles=('Temoins', 'so…"
      ]
     },
     "metadata": {},
     "output_type": "display_data"
    }
   ],
   "source": [
    "corporaMenu('new',{\"segmentation\":False,\"near_match\":True,\"layout\":\"horizontal\",\"output\":\"html\",\"path\":\"demo/demo_Jerihna3.json\"},tab_index=1)"
   ]
  },
  {
   "cell_type": "markdown",
   "id": "8fe9bb6d",
   "metadata": {},
   "source": [
    "### Les formats de sortie \n",
    "\n",
    "- **table** "
   ]
  },
  {
   "cell_type": "code",
   "execution_count": 6,
   "id": "4327627e",
   "metadata": {},
   "outputs": [
    {
     "name": "stdout",
     "output_type": "stream",
     "text": [
      "demo/demo_Jerihna3.json\n"
     ]
    },
    {
     "data": {
      "application/vnd.jupyter.widget-view+json": {
       "model_id": "a41073307c4342ad8bfaeb3f519b4f0f",
       "version_major": 2,
       "version_minor": 0
      },
      "text/plain": [
       "VBox(children=(Output(), Output(), Tab(children=(Output(), Output()), selected_index=1, titles=('Temoins', 'so…"
      ]
     },
     "metadata": {},
     "output_type": "display_data"
    }
   ],
   "source": [
    "corporaMenu('new',{\"segmentation\":False,\"near_match\":True,\"layout\":\"horizontal\",\"output\":\"table\",\"path\":\"demo/demo_Jerihna3.json\"},tab_index=1)"
   ]
  },
  {
   "cell_type": "markdown",
   "id": "dc026871",
   "metadata": {},
   "source": [
    "- **csv/tsv**"
   ]
  },
  {
   "cell_type": "code",
   "execution_count": 7,
   "id": "630b8c4c",
   "metadata": {},
   "outputs": [
    {
     "name": "stdout",
     "output_type": "stream",
     "text": [
      "demo/demo_Jerihna3.json\n"
     ]
    },
    {
     "data": {
      "application/vnd.jupyter.widget-view+json": {
       "model_id": "fe00705ebec04cbf8e54fdb53b14428e",
       "version_major": 2,
       "version_minor": 0
      },
      "text/plain": [
       "VBox(children=(Output(), Output(), Tab(children=(Output(), Output()), selected_index=1, titles=('Temoins', 'so…"
      ]
     },
     "metadata": {},
     "output_type": "display_data"
    }
   ],
   "source": [
    "corporaMenu('new',{\"segmentation\":False,\"near_match\":True,\"layout\":\"horizontal\",\"output\":\"csv\",\"path\":\"demo/demo_Jerihna3.json\"},tab_index=1)"
   ]
  },
  {
   "cell_type": "code",
   "execution_count": 8,
   "id": "8728db82",
   "metadata": {},
   "outputs": [
    {
     "name": "stdout",
     "output_type": "stream",
     "text": [
      "demo/demo_Jerihna3.json\n"
     ]
    },
    {
     "data": {
      "application/vnd.jupyter.widget-view+json": {
       "model_id": "b0428071a2874448a3b55b3443934db1",
       "version_major": 2,
       "version_minor": 0
      },
      "text/plain": [
       "VBox(children=(Output(), Output(), Tab(children=(Output(), Output()), selected_index=1, titles=('Temoins', 'so…"
      ]
     },
     "metadata": {},
     "output_type": "display_data"
    }
   ],
   "source": [
    "corporaMenu('new',{\"segmentation\":False,\"near_match\":True,\"layout\":\"horizontal\",\"output\":\"tsv\",\"path\":\"demo/demo_Jerihna3.json\"},tab_index=1)"
   ]
  },
  {
   "cell_type": "markdown",
   "id": "86dbb3c7",
   "metadata": {},
   "source": [
    "- **hmtl**"
   ]
  },
  {
   "cell_type": "code",
   "execution_count": 9,
   "id": "4f517072",
   "metadata": {},
   "outputs": [
    {
     "name": "stdout",
     "output_type": "stream",
     "text": [
      "demo/demo_Jerihna3.json\n"
     ]
    },
    {
     "data": {
      "application/vnd.jupyter.widget-view+json": {
       "model_id": "dad0076e867e49f794344a59cfbf4ee9",
       "version_major": 2,
       "version_minor": 0
      },
      "text/plain": [
       "VBox(children=(Output(), Output(), Tab(children=(Output(), Output()), selected_index=1, titles=('Temoins', 'so…"
      ]
     },
     "metadata": {},
     "output_type": "display_data"
    }
   ],
   "source": [
    "corporaMenu('new',{\"segmentation\":False,\"near_match\":True,\"layout\":\"horizontal\",\"output\":\"html\",\"path\":\"demo/demo_Jerihna3.json\"},tab_index=1)"
   ]
  },
  {
   "cell_type": "markdown",
   "id": "10505687",
   "metadata": {},
   "source": [
    "- **html2**"
   ]
  },
  {
   "cell_type": "code",
   "execution_count": 10,
   "id": "2a3526e0",
   "metadata": {},
   "outputs": [
    {
     "name": "stdout",
     "output_type": "stream",
     "text": [
      "demo/demo_Jerihna3.json\n"
     ]
    },
    {
     "data": {
      "application/vnd.jupyter.widget-view+json": {
       "model_id": "487c48c7ec974bb0adc70dff79534e0a",
       "version_major": 2,
       "version_minor": 0
      },
      "text/plain": [
       "VBox(children=(Output(), Output(), Tab(children=(Output(), Output()), selected_index=1, titles=('Temoins', 'so…"
      ]
     },
     "metadata": {},
     "output_type": "display_data"
    }
   ],
   "source": [
    "corporaMenu('new',{\"segmentation\":False,\"near_match\":True,\"layout\":\"horizontal\",\"output\":\"html2\",\"path\":\"demo/demo_Jerihna3.json\"},tab_index=1)"
   ]
  },
  {
   "cell_type": "markdown",
   "id": "0ca491e0",
   "metadata": {},
   "source": [
    "- **svg simple**"
   ]
  },
  {
   "cell_type": "code",
   "execution_count": 11,
   "id": "41fe4978",
   "metadata": {},
   "outputs": [
    {
     "name": "stdout",
     "output_type": "stream",
     "text": [
      "demo/demo_Jerihna3.json\n"
     ]
    },
    {
     "data": {
      "application/vnd.jupyter.widget-view+json": {
       "model_id": "5e5f10c341d342b4a5f96ea60310d184",
       "version_major": 2,
       "version_minor": 0
      },
      "text/plain": [
       "VBox(children=(Output(), Output(), Tab(children=(Output(), Output()), selected_index=1, titles=('Temoins', 'so…"
      ]
     },
     "metadata": {},
     "output_type": "display_data"
    }
   ],
   "source": [
    "corporaMenu('new',{\"segmentation\":False,\"near_match\":True,\"output\":\"svg_simple\",\"path\":\"demo/demo_Jerihna3.json\"},tab_index=1)"
   ]
  },
  {
   "cell_type": "markdown",
   "id": "5957f90b",
   "metadata": {},
   "source": [
    "- **svg**"
   ]
  },
  {
   "cell_type": "code",
   "execution_count": 12,
   "id": "fcc33c77",
   "metadata": {},
   "outputs": [
    {
     "name": "stdout",
     "output_type": "stream",
     "text": [
      "demo/demo_Jerihna3.json\n"
     ]
    },
    {
     "data": {
      "application/vnd.jupyter.widget-view+json": {
       "model_id": "fe5352d96edd4ad4bff172a6f0e774fc",
       "version_major": 2,
       "version_minor": 0
      },
      "text/plain": [
       "VBox(children=(Output(), Output(), Tab(children=(Output(), Output()), selected_index=1, titles=('Temoins', 'so…"
      ]
     },
     "metadata": {},
     "output_type": "display_data"
    }
   ],
   "source": [
    "corporaMenu('new',{\"segmentation\":False,\"near_match\":True,\"output\":\"svg\",\"path\":\"demo/demo_Jerihna3.json\"},tab_index=1)"
   ]
  },
  {
   "cell_type": "markdown",
   "id": "20b2ebed",
   "metadata": {},
   "source": [
    "- **tei**"
   ]
  },
  {
   "cell_type": "code",
   "execution_count": 13,
   "id": "1175bc9f",
   "metadata": {},
   "outputs": [
    {
     "name": "stdout",
     "output_type": "stream",
     "text": [
      "demo/demo_Jerihna3.json\n"
     ]
    },
    {
     "data": {
      "application/vnd.jupyter.widget-view+json": {
       "model_id": "7257f65de6e2460aa9facadf56969479",
       "version_major": 2,
       "version_minor": 0
      },
      "text/plain": [
       "VBox(children=(Output(), Output(), Tab(children=(Output(), Output()), selected_index=1, titles=('Temoins', 'so…"
      ]
     },
     "metadata": {},
     "output_type": "display_data"
    }
   ],
   "source": [
    "corporaMenu('new',{\"segmentation\":False,\"near_match\":True,\"output\":\"tei\",\"path\":\"demo/demo_Jerihna3.json\"},tab_index=1)"
   ]
  },
  {
   "cell_type": "markdown",
   "id": "a47d26f3",
   "metadata": {},
   "source": [
    "## A vous de Jouez !"
   ]
  },
  {
   "cell_type": "markdown",
   "id": "16b1c655",
   "metadata": {},
   "source": [
    "- **Alignements de témoins** :\n",
    "\n",
    "Entrée dans les noms Hébreux de Jerôme "
   ]
  },
  {
   "cell_type": "code",
   "execution_count": null,
   "id": "05f097cc",
   "metadata": {},
   "outputs": [],
   "source": [
    "corporaMenu('new',{\"path\":\"demo/demo_Jerihna3.json\"},tab_index=0)"
   ]
  },
  {
   "cell_type": "code",
   "execution_count": null,
   "id": "08a8a6b7",
   "metadata": {},
   "outputs": [],
   "source": [
    "corporaMenu('new',{\"path\":\"demo/demo_Jerihna2.json\"},tab_index=0)"
   ]
  },
  {
   "cell_type": "markdown",
   "id": "20ed2a65",
   "metadata": {},
   "source": [
    "example issu du stage d'eddoctique"
   ]
  },
  {
   "cell_type": "code",
   "execution_count": null,
   "id": "67656d7b",
   "metadata": {},
   "outputs": [],
   "source": [
    "corporaMenu('new',{\"path\":\"demo/demo_Testimonia_chap16.json\"},tab_index=0)"
   ]
  },
  {
   "cell_type": "markdown",
   "id": "44bf71da",
   "metadata": {},
   "source": [
    "- **Alignement de citation** :\n",
    "\n",
    "verset dans la Bible et leur citations chez plusieurs auteurs Gal1:1 relévé par Justin Hagerman"
   ]
  },
  {
   "cell_type": "code",
   "execution_count": null,
   "id": "86be8366",
   "metadata": {},
   "outputs": [],
   "source": [
    "corporaMenu('new',{\"path\":\"demo/demo_Jerihna3.json\"},tab_index=0)"
   ]
  }
 ],
 "metadata": {
  "kernelspec": {
   "display_name": "Python 3 (ipykernel)",
   "language": "python",
   "name": "python3"
  },
  "language_info": {
   "codemirror_mode": {
    "name": "ipython",
    "version": 3
   },
   "file_extension": ".py",
   "mimetype": "text/x-python",
   "name": "python",
   "nbconvert_exporter": "python",
   "pygments_lexer": "ipython3",
   "version": "3.10.12"
  }
 },
 "nbformat": 4,
 "nbformat_minor": 5
}
